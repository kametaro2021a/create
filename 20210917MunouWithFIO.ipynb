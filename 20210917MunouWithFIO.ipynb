{
  "nbformat": 4,
  "nbformat_minor": 0,
  "metadata": {
    "colab": {
      "name": "20210917MunouWithFIO.ipynb",
      "provenance": [],
      "collapsed_sections": [],
      "authorship_tag": "ABX9TyMlqxls3ThwkE8dWe2IyYLz",
      "include_colab_link": true
    },
    "kernelspec": {
      "name": "python3",
      "display_name": "Python 3"
    },
    "language_info": {
      "name": "python"
    }
  },
  "cells": [
    {
      "cell_type": "markdown",
      "metadata": {
        "id": "view-in-github",
        "colab_type": "text"
      },
      "source": [
        "<a href=\"https://colab.research.google.com/github/kametaro2021a/lab/blob/main/20210917MunouWithFIO.ipynb\" target=\"_parent\"><img src=\"https://colab.research.google.com/assets/colab-badge.svg\" alt=\"Open In Colab\"/></a>"
      ]
    },
    {
      "cell_type": "code",
      "metadata": {
        "colab": {
          "base_uri": "https://localhost:8080/"
        },
        "id": "8rdNtd3y-r4y",
        "outputId": "dcbf0669-8b3e-4858-ae06-34d98b55c14c"
      },
      "source": [
        "import random\n",
        "import csv\n",
        "import os\n",
        "wlst=['なに？','それで？','どうしたの？','元気？']\n",
        "elst=['またね','じゃあね','ばいばい','バイバイ']\n",
        "wwlsta=[]\n",
        "wwlst=[]\n",
        "if not os.path.isfile('conlst.csv'):\n",
        "  with open('conlst.csv', 'w'):\n",
        "    pass\n",
        "with open('conlst.csv', 'r', newline='') as file:\n",
        "  myreader = csv.reader(file, delimiter=',')\n",
        "  for rows in myreader:\n",
        "#    print(rows)\n",
        "    wwlsta.append(rows[0])\n",
        "    wwlst.append(rows)\n",
        "#print(wwlst)\n",
        "#print(wwlsta)\n",
        "a=random.choice(wlst)\n",
        "print(a)\n",
        "b = input()\n",
        "c=[a,b]\n",
        "wwlst.append(c)\n",
        "wwlsta.append(a)\n",
        "while not(a in elst or b in elst):\n",
        "  print(wwlsta)\n",
        "#  print(wwlst)\n",
        "  wlst.append(b)\n",
        "  if b in wwlsta:\n",
        "    alst=[x for x in wwlst if x[0] in wwlsta]\n",
        "    aa=random.choice(alst)\n",
        "    a=aa[1]\n",
        "  else:\n",
        "    a=random.choice(wlst)\n",
        "  print(a)\n",
        "  b = input()\n",
        "  c=[a,b]\n",
        "  wwlst.append(c)\n",
        "  wwlsta.append(a)\n",
        "with open('conlst.csv', 'w', newline='') as file:\n",
        "  mywriter = csv.writer(file, delimiter=',')\n",
        "  mywriter.writerows(wwlst)"
      ],
      "execution_count": 4,
      "outputs": [
        {
          "name": "stdout",
          "output_type": "stream",
          "text": [
            "それで？\n",
            "なに？\n",
            "['どうしたの？', 'おはよう', '雨だよ', '元気？', '元気？', '繰り返しばかりだね', 'うん', 'おはよう', 'どうしたの？', 'どうしたの？', 'どうしたの？', 'なに？', 'なんだろうね', 'どうしたの？', 'それで？']\n",
            "大丈夫？\n",
            "大丈夫だよ\n",
            "['どうしたの？', 'おはよう', '雨だよ', '元気？', '元気？', '繰り返しばかりだね', 'うん', 'おはよう', 'どうしたの？', 'どうしたの？', 'どうしたの？', 'なに？', 'なんだろうね', 'どうしたの？', 'それで？', '大丈夫？']\n",
            "なに？\n",
            "ばいばい\n"
          ]
        }
      ]
    },
    {
      "cell_type": "code",
      "metadata": {
        "id": "t_9B2npQCfuT"
      },
      "source": [
        ""
      ],
      "execution_count": null,
      "outputs": []
    }
  ]
}