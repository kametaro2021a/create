{
  "nbformat": 4,
  "nbformat_minor": 0,
  "metadata": {
    "colab": {
      "name": "20210803PythonStrings.ipynb",
      "provenance": [],
      "collapsed_sections": [],
      "authorship_tag": "ABX9TyPZ+3T1BElQYuhIbdeRwE65",
      "include_colab_link": true
    },
    "kernelspec": {
      "name": "python3",
      "display_name": "Python 3"
    },
    "language_info": {
      "name": "python"
    }
  },
  "cells": [
    {
      "cell_type": "markdown",
      "metadata": {
        "id": "view-in-github",
        "colab_type": "text"
      },
      "source": [
        "<a href=\"https://colab.research.google.com/github/kametaro2021a/lab/blob/main/20210803PythonStrings.ipynb\" target=\"_parent\"><img src=\"https://colab.research.google.com/assets/colab-badge.svg\" alt=\"Open In Colab\"/></a>"
      ]
    },
    {
      "cell_type": "markdown",
      "metadata": {
        "id": "LqjpEki3uAS2"
      },
      "source": [
        "# Python のデータ型, 特に文字列\n",
        "### シングルクオートかダブルクオートかの違いは？\n",
        "よくわからない\n",
        "### トリプルクオートだと複数行の（改行込み？の）テキストを扱うことができる\n",
        "`'<一行文字列>'`や`''<一行文字列>''`でその中に`\\n`を入れることで複数行にすることはできる。\n",
        "\n"
      ]
    },
    {
      "cell_type": "code",
      "metadata": {
        "colab": {
          "base_uri": "https://localhost:8080/"
        },
        "id": "2KXHTbyVt7RB",
        "outputId": "f20c30e5-3849-43cf-9008-dfc0a704231c"
      },
      "source": [
        "s='文字列だよ'\n",
        "print(s)\n",
        "ss=\"ダブルクオートでも文字列だよ\"\n",
        "print(ss)\n",
        "t='文字列の中に改行が入れられる\\nのだよ'\n",
        "print(t)\n",
        "tt='''トリプルクオートだと\n",
        "複数の行を持つ\n",
        "文字列というよりは\n",
        "テキストが扱えて\n",
        "勝手に改行が\n",
        "入る\n",
        "のだよ'''\n",
        "print(tt)\n"
      ],
      "execution_count": 5,
      "outputs": [
        {
          "output_type": "stream",
          "text": [
            "文字列だよ\n",
            "ダブルクオートでも文字列だよ\n",
            "文字列の中に改行が入れられる\n",
            "のだよ\n",
            "トリプルクオートだと\n",
            "複数の行を持つ\n",
            "文字列というよりは\n",
            "テキストが扱えて\n",
            "勝手に改行が\n",
            "入る\n",
            "のだよ\n"
          ],
          "name": "stdout"
        }
      ]
    },
    {
      "cell_type": "markdown",
      "metadata": {
        "id": "Up4hOFzow41k"
      },
      "source": [
        "# 複数のデータ書式があるがその扱いは？\n",
        "### シングルクオートでもダブルでも「同じもの」として扱われる。\n",
        "確かめた\n",
        "### シングルクオートやダブルで改行コード入れた文字列とトリプルクオートで改行のある複数行のテキストとした文字列もちゃんと「同じもの」として扱われる。\n",
        "確かめた"
      ]
    },
    {
      "cell_type": "code",
      "metadata": {
        "colab": {
          "base_uri": "https://localhost:8080/"
        },
        "id": "6ly7ufPuuZaC",
        "outputId": "6c5f8601-87c7-4988-8645-eaa48a046302"
      },
      "source": [
        "a,b='同じかな',\"同じかな\"\n",
        "print(a==b)\n",
        "c,d='これも\\n同じかな','''これも\n",
        "同じかな'''\n",
        "print(c==d)"
      ],
      "execution_count": 10,
      "outputs": [
        {
          "output_type": "stream",
          "text": [
            "True\n",
            "True\n"
          ],
          "name": "stdout"
        }
      ]
    },
    {
      "cell_type": "markdown",
      "metadata": {
        "id": "8hyK2DldyTG3"
      },
      "source": [
        "### 例えば処理をした文字列でも同様になるか。\n",
        "確かめてみた。同じと扱われる。ただし，`print`の挙動がちょっと謎。\n",
        "何故かは（今は）分かってないけど，\n",
        "現象としては，`,`区切りで複数の一行文字列を改行コード`\\n`挟んで一度に`print(...,\"\\n\",...)`としたときに謎の半角スペースが入る。"
      ]
    },
    {
      "cell_type": "code",
      "metadata": {
        "colab": {
          "base_uri": "https://localhost:8080/"
        },
        "id": "4QviI9ONxEEA",
        "outputId": "caed0e3a-0aa8-4257-e412-d204a59e6656"
      },
      "source": [
        "s=\"今日は雨。明日は曇りかな。少しは涼しくなるのか。\"\n",
        "ss=s.replace('。', '。\\n')\n",
        "print(s,'\\n↓\\n',ss)\n",
        "print(s,'\\n↓\\n'+ss)\n",
        "print(s,\"\\n↓\")\n",
        "print(ss)\n",
        "t='''今日は雨。\n",
        "明日は曇りかな。\n",
        "少しは涼しくなるのか。\n",
        "'''\n",
        "print(ss==t)"
      ],
      "execution_count": 23,
      "outputs": [
        {
          "output_type": "stream",
          "text": [
            "今日は雨。明日は曇りかな。少しは涼しくなるのか。 \n",
            "↓\n",
            " 今日は雨。\n",
            "明日は曇りかな。\n",
            "少しは涼しくなるのか。\n",
            "\n",
            "今日は雨。明日は曇りかな。少しは涼しくなるのか。 \n",
            "↓\n",
            "今日は雨。\n",
            "明日は曇りかな。\n",
            "少しは涼しくなるのか。\n",
            "\n",
            "今日は雨。明日は曇りかな。少しは涼しくなるのか。 \n",
            "↓\n",
            "今日は雨。\n",
            "明日は曇りかな。\n",
            "少しは涼しくなるのか。\n",
            "\n",
            "True\n"
          ],
          "name": "stdout"
        }
      ]
    },
    {
      "cell_type": "markdown",
      "metadata": {
        "id": "PeeNLlEB1nde"
      },
      "source": [
        "### 謎の`print()`の半角スペースは再現されるか✓\n",
        "ちゃんと再現された... ナニコレ... でもこれは`,`区切りではなく文字列の結合というか廉潔な`(文字列)+(文字列)`にすれば起こらない。"
      ]
    },
    {
      "cell_type": "code",
      "metadata": {
        "colab": {
          "base_uri": "https://localhost:8080/"
        },
        "id": "2w1_pay-yzSu",
        "outputId": "a2a83687-fe50-440f-e099-1a077edcfea3"
      },
      "source": [
        "print(\"...\",\"\\n\",\"...\")\n",
        "print(\"...\"+\"\\n\"+\"...\")"
      ],
      "execution_count": 25,
      "outputs": [
        {
          "output_type": "stream",
          "text": [
            "... \n",
            " ...\n",
            "...\n",
            "...\n"
          ],
          "name": "stdout"
        }
      ]
    },
    {
      "cell_type": "markdown",
      "metadata": {
        "id": "KLBt6JM32tWy"
      },
      "source": [
        "### 会話をする人口無脳だと，僕らが複数行というか複数センテンスで投げた時の処理でこれが問題になる。\n",
        "たとえば，さっきのように「今日は雨。明日は曇りかな。少しは涼しくなるのか。」という返答に対して，3つのセンテンスがあり，それらの3つの文について解析して，データを蓄積することとなるかもしれない。"
      ]
    },
    {
      "cell_type": "markdown",
      "metadata": {
        "id": "4ZTq7wd16RGK"
      },
      "source": [
        "そんなわけで，複数行入力できるものを書いてみた。"
      ]
    },
    {
      "cell_type": "code",
      "metadata": {
        "colab": {
          "base_uri": "https://localhost:8080/"
        },
        "id": "x450UoHr11GX",
        "outputId": "53d63f49-2ee1-474c-ae0c-8e2fbaa95c24"
      },
      "source": [
        "def yaritori(s):\n",
        "  ansstr=''\n",
        "  while True:\n",
        "    val = input(s+\"  ([Enter key]のみで終了)\\n\")\n",
        "    s=\"\"\n",
        "    if val:\n",
        "      if ansstr==\"\":\n",
        "        ansstr=val\n",
        "      else:\n",
        "        ansstr=ansstr+'\\n'+val\n",
        "    else:\n",
        "      break\n",
        "  return ansstr\n",
        "ans=yaritori(\"おはようさん\")\n",
        "print('------')\n",
        "print(ans)"
      ],
      "execution_count": 40,
      "outputs": [
        {
          "output_type": "stream",
          "text": [
            "おはようさん  ([Enter key]のみで終了)\n",
            "おはようさん。\n",
            "  ([Enter key]のみで終了)\n",
            "今日は暑いね。\n",
            "  ([Enter key]のみで終了)\n",
            "\n",
            "------\n",
            "おはようさん。\n",
            "今日は暑いね。\n"
          ],
          "name": "stdout"
        }
      ]
    },
    {
      "cell_type": "markdown",
      "metadata": {
        "id": "_IceJskg6eF8"
      },
      "source": [
        "ただ，例えば人によっては一度に3文を入力するかもしれない。\n",
        "（プログラミングというかアプリケーション作成ではそういう想定が必要。本当は逸れも含めてエラー処理も。何を入力されても処理が進まないとコケル。）"
      ]
    },
    {
      "cell_type": "code",
      "metadata": {
        "id": "7Q-nGYvp2rDT"
      },
      "source": [
        "\n"
      ],
      "execution_count": null,
      "outputs": []
    }
  ]
}